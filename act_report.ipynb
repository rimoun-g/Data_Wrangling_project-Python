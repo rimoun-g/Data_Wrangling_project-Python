{
 "cells": [
  {
   "cell_type": "markdown",
   "metadata": {},
   "source": [
    "<center><h1>Act Report</h></center>"
   ]
  },
  {
   "cell_type": "markdown",
   "metadata": {},
   "source": [
    "## Ananlyzing and Visulaizing WeRateDogs Twitter page"
   ]
  },
  {
   "cell_type": "code",
   "execution_count": 4,
   "metadata": {},
   "outputs": [],
   "source": [
    "import numpy as np\n",
    "import pandas as pd\n",
    "import requests\n",
    "import re\n",
    "import json\n",
    "import matplotlib.pyplot as plt"
   ]
  },
  {
   "cell_type": "code",
   "execution_count": 5,
   "metadata": {},
   "outputs": [],
   "source": [
    "# reading data from the file we saved\n",
    "df = pd.read_csv(\"twitter_archive_master.csv\", index_col=0)"
   ]
  },
  {
   "cell_type": "code",
   "execution_count": 6,
   "metadata": {},
   "outputs": [],
   "source": [
    "# converting timstamp column to the proper data type\n",
    "df.timestamp = pd.to_datetime(df.timestamp)"
   ]
  },
  {
   "cell_type": "code",
   "execution_count": 7,
   "metadata": {},
   "outputs": [],
   "source": [
    "# setting the timestamp as the index in order to make the index meaningful\n",
    "df.set_index(\"timestamp\", inplace=True)"
   ]
  },
  {
   "cell_type": "markdown",
   "metadata": {},
   "source": [
    "### The Page Likes histogram "
   ]
  },
  {
   "cell_type": "code",
   "execution_count": 69,
   "metadata": {},
   "outputs": [
    {
     "data": {
      "text/plain": [
       "<matplotlib.axes._subplots.AxesSubplot at 0x200af8c0048>"
      ]
     },
     "execution_count": 69,
     "metadata": {},
     "output_type": "execute_result"
    },
    {
     "data": {
      "image/png": "[encoded data removed]",
      "text/plain": [
       "<Figure size 432x288 with 1 Axes>"
      ]
     },
     "metadata": {
      "needs_background": "light"
     },
     "output_type": "display_data"
    }
   ],
   "source": [
    "# showing the likes distribution\n",
    "df.likes_counter.plot(kind=\"hist\")"
   ]
  },
  {
   "cell_type": "markdown",
   "metadata": {},
   "source": [
    "We can see that most likes ranges between 0 and 20000"
   ]
  },
  {
   "cell_type": "markdown",
   "metadata": {},
   "source": [
    "### The Page retweets histogram"
   ]
  },
  {
   "cell_type": "code",
   "execution_count": 70,
   "metadata": {},
   "outputs": [
    {
     "data": {
      "text/plain": [
       "<matplotlib.axes._subplots.AxesSubplot at 0x200af2a45c0>"
      ]
     },
     "execution_count": 70,
     "metadata": {},
     "output_type": "execute_result"
    },
    {
     "data": {
      "image/png": "[encoded data removed]",
      "text/plain": [
       "<Figure size 432x288 with 1 Axes>"
      ]
     },
     "metadata": {
      "needs_background": "light"
     },
     "output_type": "display_data"
    }
   ],
   "source": [
    "# showing the retweets number distribution\n",
    "df.retweet_counter.plot(kind=\"hist\")"
   ]
  },
  {
   "cell_type": "markdown",
   "metadata": {},
   "source": [
    "We can see that most retweets ranges between 0 and 10000"
   ]
  },
  {
   "cell_type": "markdown",
   "metadata": {},
   "source": [
    "### The Dog stages Bar Graph"
   ]
  },
  {
   "cell_type": "code",
   "execution_count": 11,
   "metadata": {},
   "outputs": [
    {
     "data": {
      "text/plain": [
       "<matplotlib.axes._subplots.AxesSubplot at 0x1cbb5796a90>"
      ]
     },
     "execution_count": 11,
     "metadata": {},
     "output_type": "execute_result"
    },
    {
     "data": {
      "image/png": "[encoded data removed]",
      "text/plain": [
       "<Figure size 432x288 with 1 Axes>"
      ]
     },
     "metadata": {
      "needs_background": "light"
     },
     "output_type": "display_data"
    }
   ],
   "source": [
    "df.dog_stage.value_counts().plot(kind='bar')"
   ]
  },
  {
   "cell_type": "markdown",
   "metadata": {},
   "source": [
    "### The most liked dog by followers"
   ]
  },
  {
   "cell_type": "code",
   "execution_count": 86,
   "metadata": {},
   "outputs": [
    {
     "name": "stdout",
     "output_type": "stream",
     "text": [
      "Page rating:  13.0/10\n",
      "Name:  nan\n",
      "Dog_stage:  puppo\n",
      "Breed:  Lakeland_terrier\n",
      "Likes:  132810\n",
      "Retweets:  48265\n"
     ]
    }
   ],
   "source": [
    "# getting the dog that got the highest likes\n",
    "most_liked_dog = df[df.likes_counter==df.likes_counter.max()]\n",
    "print(\"Page rating: \",str(most_liked_dog.values[0][2]) + \"/10\")\n",
    "print(\"Name: \",most_liked_dog.values[0][4])\n",
    "print(\"Dog_stage: \",most_liked_dog.values[0][5])\n",
    "print(\"Breed: \",most_liked_dog.values[0][7])\n",
    "print(\"Likes: \",most_liked_dog.values[0][9])\n",
    "print(\"Retweets: \",most_liked_dog.values[0][10])"
   ]
  },
  {
   "cell_type": "markdown",
   "metadata": {},
   "source": [
    "The most liked dog was Lakeland_terrier breed with around 132810 likes with no name mentioned."
   ]
  },
  {
   "cell_type": "markdown",
   "metadata": {},
   "source": [
    "### The most retweeted dog by followers"
   ]
  },
  {
   "cell_type": "code",
   "execution_count": 87,
   "metadata": {},
   "outputs": [
    {
     "name": "stdout",
     "output_type": "stream",
     "text": [
      "Page rating:  13.0/10\n",
      "Name:  nan\n",
      "Dog_stage:  doggo\n",
      "Breed:  Labrador_retriever\n",
      "Likes:  131075\n",
      "Retweets:  79515\n"
     ]
    }
   ],
   "source": [
    "# getting the dog that got the highest retweets\n",
    "most_retweeted_dog = df[df.retweet_counter==df.retweet_counter.max()]\n",
    "print(\"Page rating: \",str(most_retweeted_dog.values[0][2]) + \"/10\")\n",
    "print(\"Name: \",most_retweeted_dog.values[0][4])\n",
    "print(\"Dog_stage: \",most_retweeted_dog.values[0][5])\n",
    "print(\"Breed: \",most_retweeted_dog.values[0][7])\n",
    "print(\"Likes: \",most_retweeted_dog.values[0][9])\n",
    "print(\"Retweets: \",most_retweeted_dog.values[0][10])"
   ]
  },
  {
   "cell_type": "markdown",
   "metadata": {},
   "source": [
    "The most retweeted dog was Labrador_retriever breed with around 79515 retweets and also the name is missing."
   ]
  },
  {
   "cell_type": "markdown",
   "metadata": {},
   "source": [
    "### Page Likes over time"
   ]
  },
  {
   "cell_type": "code",
   "execution_count": 88,
   "metadata": {},
   "outputs": [
    {
     "data": {
      "text/plain": [
       "(array([735903., 735964., 736024., 736085., 736146., 736208., 736269.,\n",
       "        736330., 736389., 736450., 736511., 736573.]),\n",
       " <a list of 12 Text xticklabel objects>)"
      ]
     },
     "execution_count": 88,
     "metadata": {},
     "output_type": "execute_result"
    },
    {
     "data": {
      "image/png": "[encoded data removed]",
      "text/plain": [
       "<Figure size 432x288 with 1 Axes>"
      ]
     },
     "metadata": {
      "needs_background": "light"
     },
     "output_type": "display_data"
    }
   ],
   "source": [
    "# showing the average likes rate of every two weeks over time\n",
    "plt.plot(df.likes_counter.resample(\"2W\").mean())\n",
    "plt.xticks(rotation=45, ha='right')"
   ]
  },
  {
   "cell_type": "markdown",
   "metadata": {},
   "source": [
    "We resampled our data for each two weeks and we measured the average of likes, we find that the number of likes is increasing over the time, which may indicate a growth in page followers or an increase in the activity of the page followers."
   ]
  },
  {
   "cell_type": "markdown",
   "metadata": {},
   "source": [
    "### Page retweets rate over time"
   ]
  },
  {
   "cell_type": "code",
   "execution_count": 89,
   "metadata": {},
   "outputs": [
    {
     "data": {
      "text/plain": [
       "(array([735903., 735964., 736024., 736085., 736146., 736208., 736269.,\n",
       "        736330., 736389., 736450., 736511., 736573.]),\n",
       " <a list of 12 Text xticklabel objects>)"
      ]
     },
     "execution_count": 89,
     "metadata": {},
     "output_type": "execute_result"
    },
    {
     "data": {
      "image/png": "[encoded data removed]",
      "text/plain": [
       "<Figure size 432x288 with 1 Axes>"
      ]
     },
     "metadata": {
      "needs_background": "light"
     },
     "output_type": "display_data"
    }
   ],
   "source": [
    "# showing the average retweet rate of every two weeks over time\n",
    "plt.plot(df.retweet_counter.resample(\"2w\").mean())\n",
    "plt.xticks(rotation=45, ha='right')"
   ]
  },
  {
   "cell_type": "markdown",
   "metadata": {},
   "source": [
    "We also resampled our data for each two weeks and we measured the average of retweet rate. We find that the number of retweets is increasing over the time, which may indicate a growth in page followers or an increase in the activity of the page followers."
   ]
  },
  {
   "cell_type": "markdown",
   "metadata": {},
   "source": [
    "### Top 10 common breeds retweeted"
   ]
  },
  {
   "cell_type": "code",
   "execution_count": 90,
   "metadata": {},
   "outputs": [
    {
     "data": {
      "text/plain": [
       "Text(0.5, 1.0, 'Top 10 most common dog breeds')"
      ]
     },
     "execution_count": 90,
     "metadata": {},
     "output_type": "execute_result"
    },
    {
     "data": {
      "image/png": "[encoded data removed]",
      "text/plain": [
       "<Figure size 432x288 with 1 Axes>"
      ]
     },
     "metadata": {
      "needs_background": "light"
     },
     "output_type": "display_data"
    }
   ],
   "source": [
    "# showing the most common breeds in dogs\n",
    "df[\"dog_prediction\"].value_counts()[:10].plot(kind=\"barh\", color='g')\n",
    "plt.title(\"Top 10 most common dog breeds\")"
   ]
  },
  {
   "cell_type": "markdown",
   "metadata": {},
   "source": [
    "We also investigated the top 10 common breeds in dogs and we can notice that the most common breed is “Golden retriever” and the lowest is “Malamute”."
   ]
  },
  {
   "cell_type": "markdown",
   "metadata": {},
   "source": [
    "### Highest page rate"
   ]
  },
  {
   "cell_type": "code",
   "execution_count": 91,
   "metadata": {
    "scrolled": true
   },
   "outputs": [
    {
     "name": "stdout",
     "output_type": "stream",
     "text": [
      "Page rating:  165.0/10\n",
      "Name:  nan\n",
      "Dog_stage:  nan\n",
      "Breed:  Labrador_retriever\n",
      "Likes:  5316\n",
      "Retweets:  2539\n"
     ]
    }
   ],
   "source": [
    "# showing the highest rated dog\n",
    "highest_dog_page_rate= df[df[\"rating_numerator\"]==df[\"rating_numerator\"].max()]\n",
    "print(\"Page rating: \",str(highest_dog_page_rate.values[0][2]) + \"/10\")\n",
    "print(\"Name: \",highest_dog_page_rate.values[0][4])\n",
    "print(\"Dog_stage: \",highest_dog_page_rate.values[0][5])\n",
    "print(\"Breed: \",highest_dog_page_rate.values[0][7])\n",
    "print(\"Likes: \",highest_dog_page_rate.values[0][9])\n",
    "print(\"Retweets: \",highest_dog_page_rate.values[0][10])"
   ]
  },
  {
   "cell_type": "markdown",
   "metadata": {},
   "source": [
    "## Conclusion:\n",
    "### Having looked at these insights, it may gives you an idea if you like dogs or recommendation about the most liked dogs. In addition, it may help you to know what are the common dogs in the market and it may be a simple advice, if you are looking for a dog to buy and want your dog to be cute."
   ]
  }
 ],
 "metadata": {
  "kernelspec": {
   "display_name": "Python 3",
   "language": "python",
   "name": "python3"
  },
  "language_info": {
   "codemirror_mode": {
    "name": "ipython",
    "version": 3
   },
   "file_extension": ".py",
   "mimetype": "text/x-python",
   "name": "python",
   "nbconvert_exporter": "python",
   "pygments_lexer": "ipython3",
   "version": "3.7.3"
  }
 },
 "nbformat": 4,
 "nbformat_minor": 4
}
